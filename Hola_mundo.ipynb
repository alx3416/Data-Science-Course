{
 "cells": [
  {
   "cell_type": "markdown",
   "source": [
    "# Los títulos inician con el símbolo (#)\n",
    "##  Puntos principales con doble símbolo (##)\n",
    "### sub títulos con triple (###)\n",
    "#### Hay Hasta 4 niveles para títulos y subtítulos (####)\n",
    "\n",
    "Este notebook tiene el propósito de ser una guía para el formato, existen 2 tipos de celdas, code cell y markdown cell, la primera es para código y la segunda para documentar el proceso\n",
    "\n",
    "A continuación una celda de código:\n"
   ],
   "metadata": {
    "collapsed": false
   }
  },
  {
   "cell_type": "code",
   "execution_count": 2,
   "outputs": [
    {
     "name": "stdout",
     "output_type": "stream",
     "text": [
      "Hola mundo, soy una celda de código\n",
      "El valor guardado en x es:  123\n"
     ]
    }
   ],
   "source": [
    "print(\"Hola mundo, soy una celda de código\")\n",
    "x = 123\n",
    "print(\"El valor guardado en x es: \", x)"
   ],
   "metadata": {
    "collapsed": false,
    "ExecuteTime": {
     "end_time": "2023-08-09T00:18:57.152903200Z",
     "start_time": "2023-08-09T00:18:57.119903700Z"
    }
   }
  },
  {
   "cell_type": "markdown",
   "source": [
    "Para hacer énfasis podemos usar __texto en negritas__ al añadir doble guión bajo al inicio y final de un texto, o bien usar *texto en cursiva* añadiendo un asterisco al inicio y final del texto\n",
    "\n",
    "Si deseamos hacer un listado:\n",
    "1. primer item\n",
    "2. segundo item\n",
    "3. tercer item\n",
    "    3.1 primer sub item\n",
    "    3.2 segundo sub item\n",
    "    3.3 tercer sub item\n",
    "- punto uno\n",
    "- punto dos\n",
    "    - sub punto uno\n",
    "        - sub sub punto uno"
   ],
   "metadata": {
    "collapsed": false
   }
  },
  {
   "cell_type": "markdown",
   "source": [
    "Si queremos utilizar imágenes desde internet para nuestro reporte usamos:\n",
    "<img src=\"https://seeklogo.com/images/D/dataspell-logo-06435B9CF3-seeklogo.com.png\" alt=\"soy una descripción de imagen\" title=\"yo soy un título\" />\n",
    "\n",
    "Más ejemplos para personalizar nuestro notebook en:\n",
    "[Markdown Cheat Sheet](https://www.markdownguide.org/cheat-sheet/)"
   ],
   "metadata": {
    "collapsed": false
   }
  },
  {
   "cell_type": "markdown",
   "source": [
    "Ejemplo del llamado de una función, para mantener legible nuestro notebook"
   ],
   "metadata": {
    "collapsed": false
   }
  },
  {
   "cell_type": "code",
   "execution_count": 1,
   "outputs": [
    {
     "name": "stdout",
     "output_type": "stream",
     "text": [
      "5.0\n"
     ]
    }
   ],
   "source": [
    "import utils.misc as ut\n",
    "\n",
    "foo = ut.getHypotenuse(3, 4)\n",
    "print(foo)"
   ],
   "metadata": {
    "collapsed": false,
    "ExecuteTime": {
     "end_time": "2023-08-17T18:05:04.714839400Z",
     "start_time": "2023-08-17T18:05:03.772487200Z"
    }
   }
  },
  {
   "cell_type": "code",
   "execution_count": null,
   "outputs": [],
   "source": [],
   "metadata": {
    "collapsed": false
   }
  }
 ],
 "metadata": {
  "kernelspec": {
   "display_name": "Python 3",
   "language": "python",
   "name": "python3"
  },
  "language_info": {
   "codemirror_mode": {
    "name": "ipython",
    "version": 2
   },
   "file_extension": ".py",
   "mimetype": "text/x-python",
   "name": "python",
   "nbconvert_exporter": "python",
   "pygments_lexer": "ipython2",
   "version": "2.7.6"
  }
 },
 "nbformat": 4,
 "nbformat_minor": 0
}
